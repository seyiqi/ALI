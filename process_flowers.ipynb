{
 "cells": [
  {
   "cell_type": "markdown",
   "metadata": {},
   "source": [
    "# CIFAR10"
   ]
  },
  {
   "cell_type": "code",
   "execution_count": 17,
   "metadata": {
    "collapsed": true
   },
   "outputs": [],
   "source": [
    "import h5py"
   ]
  },
  {
   "cell_type": "code",
   "execution_count": 18,
   "metadata": {
    "collapsed": true
   },
   "outputs": [],
   "source": [
    "cifar = h5py.File('cifar10.hdf5', 'r')"
   ]
  },
  {
   "cell_type": "code",
   "execution_count": 8,
   "metadata": {
    "collapsed": false
   },
   "outputs": [
    {
     "data": {
      "text/plain": [
       "[u'split',\n",
       " u'h5py_interface_version',\n",
       " u'fuel_convert_version',\n",
       " u'fuel_convert_command']"
      ]
     },
     "execution_count": 8,
     "metadata": {},
     "output_type": "execute_result"
    }
   ],
   "source": [
    "list(cifar.attrs.keys())"
   ]
  },
  {
   "cell_type": "code",
   "execution_count": 11,
   "metadata": {
    "collapsed": false
   },
   "outputs": [
    {
     "data": {
      "text/plain": [
       "array([ ('test', 'features', 50000, 60000, <HDF5 object reference (null)>,  True, '.'),\n",
       "       ('test', 'targets', 50000, 60000, <HDF5 object reference (null)>,  True, '.'),\n",
       "       ('train', 'features',     0, 50000, <HDF5 object reference (null)>,  True, '.'),\n",
       "       ('train', 'targets',     0, 50000, <HDF5 object reference (null)>,  True, '.')], \n",
       "      dtype=[('split', 'S5'), ('source', 'S8'), ('start', '<i8'), ('stop', '<i8'), ('indices', 'O'), ('available', '?'), ('comment', 'S1')])"
      ]
     },
     "execution_count": 11,
     "metadata": {},
     "output_type": "execute_result"
    }
   ],
   "source": [
    "cifar.attrs['split']"
   ]
  },
  {
   "cell_type": "code",
   "execution_count": 12,
   "metadata": {
    "collapsed": false
   },
   "outputs": [
    {
     "data": {
      "text/plain": [
       "'0.2'"
      ]
     },
     "execution_count": 12,
     "metadata": {},
     "output_type": "execute_result"
    }
   ],
   "source": [
    "cifar.attrs['fuel_convert_version']"
   ]
  },
  {
   "cell_type": "code",
   "execution_count": 13,
   "metadata": {
    "collapsed": false
   },
   "outputs": [
    {
     "data": {
      "text/plain": [
       "'fuel-convert cifar10'"
      ]
     },
     "execution_count": 13,
     "metadata": {},
     "output_type": "execute_result"
    }
   ],
   "source": [
    "cifar.attrs['fuel_convert_command']"
   ]
  },
  {
   "cell_type": "markdown",
   "metadata": {},
   "source": [
    "# Flowers\n",
    "\n",
    "Let's try to crop the data"
   ]
  },
  {
   "cell_type": "code",
   "execution_count": 1,
   "metadata": {
    "collapsed": false
   },
   "outputs": [
    {
     "data": {
      "text/plain": [
       "['15274443248_76b9f3eb24.jpg',\n",
       " '9406573080_60eab9278e_n.jpg',\n",
       " '8181940917_1ac63937d5_n.jpg',\n",
       " '7551637034_55ae047756_n.jpg',\n",
       " '3412874275_ca78ee024d_m.jpg']"
      ]
     },
     "execution_count": 1,
     "metadata": {},
     "output_type": "execute_result"
    }
   ],
   "source": [
    "import os\n",
    "\n",
    "classes = [\n",
    "    'daisy',\n",
    "    'dandelion',\n",
    "    'roses',\n",
    "    'sunflowers',\n",
    "    'tulips'\n",
    "]\n",
    "os.listdir('flower_photos/' + classes[2])[:5]"
   ]
  },
  {
   "cell_type": "code",
   "execution_count": 2,
   "metadata": {
    "collapsed": false
   },
   "outputs": [
    {
     "name": "stdout",
     "output_type": "stream",
     "text": [
      "1000\n",
      "2000\n",
      "3000\n"
     ]
    }
   ],
   "source": [
    "import os, sys\n",
    "import re\n",
    "import Image, ImageOps\n",
    "\n",
    "size = 64, 64\n",
    "\n",
    "proc = 0\n",
    "for c in classes:\n",
    "    for fname in os.listdir('flower_photos/' + c):\n",
    "        infile = os.path.join('flower_photos', c, fname)\n",
    "        outfile = os.path.join('flower_small', c, re.sub('jpe?g$', 'png', fname))\n",
    "        if infile != outfile:\n",
    "            try:\n",
    "                im = Image.open(infile)\n",
    "                im = ImageOps.fit(\n",
    "                    im,\n",
    "                    size,\n",
    "                    Image.ANTIALIAS\n",
    "                )\n",
    "                im.save(outfile, \"png\")\n",
    "            except IOError:\n",
    "                print \"cannot create thumbnail for '%s'\" % infile\n",
    "            proc += 1\n",
    "            if proc % 1000 == 0:\n",
    "                print(proc)"
   ]
  },
  {
   "cell_type": "code",
   "execution_count": 22,
   "metadata": {
    "collapsed": false
   },
   "outputs": [
    {
     "data": {
      "text/plain": [
       "6"
      ]
     },
     "execution_count": 22,
     "metadata": {},
     "output_type": "execute_result"
    }
   ],
   "source": [
    "import random\n",
    "import math\n",
    "int(random.random() * 10)"
   ]
  },
  {
   "cell_type": "code",
   "execution_count": 29,
   "metadata": {
    "collapsed": false
   },
   "outputs": [
    {
     "name": "stdout",
     "output_type": "stream",
     "text": [
      "1000\n",
      "2000\n",
      "3000\n",
      "4000\n",
      "5000\n",
      "6000\n",
      "7000\n",
      "8000\n"
     ]
    }
   ],
   "source": [
    "import os, sys\n",
    "import re\n",
    "import Image, ImageOps\n",
    "\n",
    "#Crop0 = random crop 20\n",
    "#Crop1 = random crop 30\n",
    "#Crop2 = rotate 15, crop 20\n",
    "#Crop3 = rotate 15, crop 20\n",
    "size = 32\n",
    "rand_crop = 30\n",
    "\n",
    "proc = 0\n",
    "for fname in os.listdir('102flowers/'):\n",
    "    infile = os.path.join('102flowers', fname)\n",
    "    outfile = os.path.join('102flowers_crop3', re.sub('jpe?g$', 'png', fname))\n",
    "    if infile != outfile:\n",
    "        try:\n",
    "            im = Image.open(infile)\n",
    "            w, h = im.size\n",
    "            if w > 72 and h > 72:\n",
    "                im = im.rotate(random.random() * 30 - 15)\n",
    "                im = im.crop((20, 20, w - 20, h - 20))\n",
    "            else:\n",
    "                print('crop failed:', (w, h))\n",
    "            \n",
    "            im = ImageOps.fit(\n",
    "                im,\n",
    "                (size, size),\n",
    "                Image.ANTIALIAS\n",
    "            )\n",
    "            im.save(outfile, \"png\")\n",
    "        except IOError:\n",
    "            print \"cannot create thumbnail for '%s'\" % infile\n",
    "        proc += 1\n",
    "        if proc % 1000 == 0:\n",
    "            print(proc)"
   ]
  },
  {
   "cell_type": "markdown",
   "metadata": {},
   "source": [
    "## Fit into H5PY"
   ]
  },
  {
   "cell_type": "code",
   "execution_count": 12,
   "metadata": {
    "collapsed": true
   },
   "outputs": [],
   "source": [
    "import scipy.io\n",
    "import numpy as np"
   ]
  },
  {
   "cell_type": "code",
   "execution_count": 5,
   "metadata": {
    "collapsed": true
   },
   "outputs": [],
   "source": [
    "labels = scipy.io.loadmat('imagelabels.mat')"
   ]
  },
  {
   "cell_type": "code",
   "execution_count": 6,
   "metadata": {
    "collapsed": false
   },
   "outputs": [],
   "source": [
    "flower_labels = labels['labels'].transpose()"
   ]
  },
  {
   "cell_type": "code",
   "execution_count": 7,
   "metadata": {
    "collapsed": false
   },
   "outputs": [
    {
     "data": {
      "text/plain": [
       "(8189, 1)"
      ]
     },
     "execution_count": 7,
     "metadata": {},
     "output_type": "execute_result"
    }
   ],
   "source": [
    "flower_labels.shape"
   ]
  },
  {
   "cell_type": "code",
   "execution_count": 39,
   "metadata": {
    "collapsed": false,
    "scrolled": true
   },
   "outputs": [
    {
     "name": "stdout",
     "output_type": "stream",
     "text": [
      "['102flowers_crop3/image_01290.png', '102flowers_crop3/image_07262.png', '102flowers_crop3/image_02921.png', '102flowers_crop3/image_03259.png', '102flowers_crop3/image_04727.png']\n"
     ]
    }
   ],
   "source": [
    "from scipy.misc import imread\n",
    "pref = '102flowers_crop3/'\n",
    "img_files = [os.path.join(pref, x) for x in os.listdir(pref)]\n",
    "print(img_files[:5])\n",
    "\n",
    "img_arrays = []\n",
    "for fpath in img_files:\n",
    "    im = imread(fpath).transpose([2, 0, 1])\n",
    "    img_arrays.append(im)"
   ]
  },
  {
   "cell_type": "code",
   "execution_count": 40,
   "metadata": {
    "collapsed": false
   },
   "outputs": [
    {
     "data": {
      "text/plain": [
       "5"
      ]
     },
     "execution_count": 40,
     "metadata": {},
     "output_type": "execute_result"
    }
   ],
   "source": [
    "#features_all = []\n",
    "features = np.stack(img_arrays)\n",
    "features_crop3 = features\n",
    "features_all.append(features_crop3)\n",
    "len(features_all)"
   ]
  },
  {
   "cell_type": "code",
   "execution_count": 51,
   "metadata": {
    "collapsed": true
   },
   "outputs": [],
   "source": [
    "features_flip_y = [np.flip(x, axis=2) for x in features_all]\n",
    "features_flip_x = [np.flip(x, axis=2) for x in features_all]"
   ]
  },
  {
   "cell_type": "code",
   "execution_count": 52,
   "metadata": {
    "collapsed": false
   },
   "outputs": [
    {
     "data": {
      "text/plain": [
       "(122835, 3, 32, 32)"
      ]
     },
     "execution_count": 52,
     "metadata": {},
     "output_type": "execute_result"
    }
   ],
   "source": [
    "features_all_flat = np.concatenate(features_all + features_flip_y + features_flip_x, axis=0)\n",
    "features_all_flat.shape"
   ]
  },
  {
   "cell_type": "code",
   "execution_count": 53,
   "metadata": {
    "collapsed": false
   },
   "outputs": [
    {
     "data": {
      "text/plain": [
       "(122835, 1)"
      ]
     },
     "execution_count": 53,
     "metadata": {},
     "output_type": "execute_result"
    }
   ],
   "source": [
    "labels_all_flat = np.repeat(flower_labels, len(features_all) * 3, axis=0)\n",
    "labels_all_flat.shape"
   ]
  },
  {
   "cell_type": "code",
   "execution_count": 54,
   "metadata": {
    "collapsed": true
   },
   "outputs": [],
   "source": [
    "data = (('train', 'features', features_all_flat),\n",
    "            ('train', 'targets', labels_all_flat))"
   ]
  },
  {
   "cell_type": "code",
   "execution_count": 58,
   "metadata": {
    "collapsed": false
   },
   "outputs": [],
   "source": [
    "from fuel.converters.base import fill_hdf5_file\n",
    "import h5py\n",
    "h5file = h5py.File('flowers102_32x32.hdf5', mode='w')\n",
    "fill_hdf5_file(h5file, data)\n",
    "\n",
    "h5file['features'].dims[0].label = 'batch'\n",
    "h5file['features'].dims[1].label = 'channel'\n",
    "h5file['features'].dims[2].label = 'height'\n",
    "h5file['features'].dims[3].label = 'width'\n",
    "h5file['targets'].dims[0].label = 'batch'\n",
    "h5file['targets'].dims[1].label = 'index'\n",
    "\n",
    "h5file.flush()\n",
    "h5file.close()"
   ]
  },
  {
   "cell_type": "code",
   "execution_count": 59,
   "metadata": {
    "collapsed": false
   },
   "outputs": [],
   "source": [
    "flowers = h5py.File('flowers102_32x32.hdf5', 'r')"
   ]
  },
  {
   "cell_type": "code",
   "execution_count": 60,
   "metadata": {
    "collapsed": false
   },
   "outputs": [
    {
     "data": {
      "text/plain": [
       "(122835, 3, 32, 32)"
      ]
     },
     "execution_count": 60,
     "metadata": {},
     "output_type": "execute_result"
    }
   ],
   "source": [
    "flowers['features'].shape"
   ]
  }
 ],
 "metadata": {
  "anaconda-cloud": {},
  "kernelspec": {
   "display_name": "Python [theano2]",
   "language": "python",
   "name": "Python [theano2]"
  },
  "language_info": {
   "codemirror_mode": {
    "name": "ipython",
    "version": 2
   },
   "file_extension": ".py",
   "mimetype": "text/x-python",
   "name": "python",
   "nbconvert_exporter": "python",
   "pygments_lexer": "ipython2",
   "version": "2.7.13"
  }
 },
 "nbformat": 4,
 "nbformat_minor": 0
}
